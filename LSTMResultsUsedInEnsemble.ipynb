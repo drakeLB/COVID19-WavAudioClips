{
 "cells": [
  {
   "cell_type": "code",
   "execution_count": 1,
   "id": "63bef5bb",
   "metadata": {},
   "outputs": [
    {
     "name": "stderr",
     "output_type": "stream",
     "text": [
      "C:\\Users\\drake\\anaconda3\\envs\\tf\\lib\\site-packages\\pydub\\utils.py:170: RuntimeWarning: Couldn't find ffmpeg or avconv - defaulting to ffmpeg, but may not work\n",
      "  warn(\"Couldn't find ffmpeg or avconv - defaulting to ffmpeg, but may not work\", RuntimeWarning)\n"
     ]
    }
   ],
   "source": [
    "import pandas as pd\n",
    "import os\n",
    "import json\n",
    "from scipy.io import wavfile\n",
    "import glob\n",
    "from pydub import AudioSegment\n",
    "from pydub.playback import play\n",
    "from IPython.display import Audio\n",
    "import numpy as np\n",
    "from sklearn.model_selection import cross_val_score, KFold\n",
    "import librosa\n",
    "from sklearn.model_selection import train_test_split\n",
    "import wave\n",
    "import matplotlib.pyplot as plt\n",
    "import librosa.display"
   ]
  },
  {
   "cell_type": "markdown",
   "id": "6e3b0f0e",
   "metadata": {},
   "source": [
    "# Preprocessing"
   ]
  },
  {
   "cell_type": "markdown",
   "id": "beb02c75",
   "metadata": {},
   "source": [
    "Load Data, going to try out Mel-frequency cepstral coefficients (MFCCs) and spectrograms\n",
    "Then split data into train test split. (Hopefully will use a nested cross val)"
   ]
  },
  {
   "cell_type": "code",
   "execution_count": 2,
   "id": "812aece7",
   "metadata": {},
   "outputs": [
    {
     "data": {
      "text/html": [
       "<div>\n",
       "<style scoped>\n",
       "    .dataframe tbody tr th:only-of-type {\n",
       "        vertical-align: middle;\n",
       "    }\n",
       "\n",
       "    .dataframe tbody tr th {\n",
       "        vertical-align: top;\n",
       "    }\n",
       "\n",
       "    .dataframe thead th {\n",
       "        text-align: right;\n",
       "    }\n",
       "</style>\n",
       "<table border=\"1\" class=\"dataframe\">\n",
       "  <thead>\n",
       "    <tr style=\"text-align: right;\">\n",
       "      <th></th>\n",
       "      <th>cough_detected</th>\n",
       "      <th>age</th>\n",
       "      <th>is_female</th>\n",
       "      <th>is_male</th>\n",
       "      <th>COVID-19</th>\n",
       "      <th>symptomatic</th>\n",
       "      <th>season_autumn</th>\n",
       "      <th>season_spring</th>\n",
       "      <th>season_summer</th>\n",
       "      <th>Africa</th>\n",
       "      <th>Asia</th>\n",
       "      <th>Europe</th>\n",
       "      <th>North America</th>\n",
       "      <th>Oceania</th>\n",
       "      <th>South America</th>\n",
       "      <th>file_path</th>\n",
       "      <th>wav_file_name</th>\n",
       "    </tr>\n",
       "  </thead>\n",
       "  <tbody>\n",
       "    <tr>\n",
       "      <th>0</th>\n",
       "      <td>0.6911</td>\n",
       "      <td>31</td>\n",
       "      <td>1</td>\n",
       "      <td>0</td>\n",
       "      <td>0</td>\n",
       "      <td>1</td>\n",
       "      <td>0</td>\n",
       "      <td>1</td>\n",
       "      <td>0</td>\n",
       "      <td>0</td>\n",
       "      <td>0</td>\n",
       "      <td>1</td>\n",
       "      <td>0</td>\n",
       "      <td>0</td>\n",
       "      <td>0</td>\n",
       "      <td>C:\\Users\\drake\\Documents\\DL Machine Learning C...</td>\n",
       "      <td>00432f00-2477-4faf-a440-cc1276065b4a.wav</td>\n",
       "    </tr>\n",
       "    <tr>\n",
       "      <th>1</th>\n",
       "      <td>0.9751</td>\n",
       "      <td>44</td>\n",
       "      <td>0</td>\n",
       "      <td>1</td>\n",
       "      <td>0</td>\n",
       "      <td>1</td>\n",
       "      <td>0</td>\n",
       "      <td>1</td>\n",
       "      <td>0</td>\n",
       "      <td>0</td>\n",
       "      <td>0</td>\n",
       "      <td>1</td>\n",
       "      <td>0</td>\n",
       "      <td>0</td>\n",
       "      <td>0</td>\n",
       "      <td>C:\\Users\\drake\\Documents\\DL Machine Learning C...</td>\n",
       "      <td>008c1c9e-aeef-40c5-846c-24f1b964f884.wav</td>\n",
       "    </tr>\n",
       "    <tr>\n",
       "      <th>2</th>\n",
       "      <td>0.9775</td>\n",
       "      <td>17</td>\n",
       "      <td>0</td>\n",
       "      <td>1</td>\n",
       "      <td>0</td>\n",
       "      <td>1</td>\n",
       "      <td>1</td>\n",
       "      <td>0</td>\n",
       "      <td>0</td>\n",
       "      <td>0</td>\n",
       "      <td>0</td>\n",
       "      <td>1</td>\n",
       "      <td>0</td>\n",
       "      <td>0</td>\n",
       "      <td>0</td>\n",
       "      <td>C:\\Users\\drake\\Documents\\DL Machine Learning C...</td>\n",
       "      <td>00ac8cb0-3384-46b2-9db5-5b5e911615f0.wav</td>\n",
       "    </tr>\n",
       "    <tr>\n",
       "      <th>3</th>\n",
       "      <td>0.9900</td>\n",
       "      <td>41</td>\n",
       "      <td>1</td>\n",
       "      <td>0</td>\n",
       "      <td>0</td>\n",
       "      <td>1</td>\n",
       "      <td>0</td>\n",
       "      <td>1</td>\n",
       "      <td>0</td>\n",
       "      <td>0</td>\n",
       "      <td>0</td>\n",
       "      <td>0</td>\n",
       "      <td>0</td>\n",
       "      <td>0</td>\n",
       "      <td>1</td>\n",
       "      <td>C:\\Users\\drake\\Documents\\DL Machine Learning C...</td>\n",
       "      <td>00ce5b06-c302-4387-bbd7-86355a4a8c12.wav</td>\n",
       "    </tr>\n",
       "    <tr>\n",
       "      <th>4</th>\n",
       "      <td>0.9632</td>\n",
       "      <td>39</td>\n",
       "      <td>1</td>\n",
       "      <td>0</td>\n",
       "      <td>1</td>\n",
       "      <td>0</td>\n",
       "      <td>1</td>\n",
       "      <td>0</td>\n",
       "      <td>0</td>\n",
       "      <td>0</td>\n",
       "      <td>0</td>\n",
       "      <td>1</td>\n",
       "      <td>0</td>\n",
       "      <td>0</td>\n",
       "      <td>0</td>\n",
       "      <td>C:\\Users\\drake\\Documents\\DL Machine Learning C...</td>\n",
       "      <td>01424527-9c3b-4b6e-96f1-9eea3150819b.wav</td>\n",
       "    </tr>\n",
       "  </tbody>\n",
       "</table>\n",
       "</div>"
      ],
      "text/plain": [
       "   cough_detected  age  is_female  is_male  COVID-19  symptomatic  \\\n",
       "0          0.6911   31          1        0         0            1   \n",
       "1          0.9751   44          0        1         0            1   \n",
       "2          0.9775   17          0        1         0            1   \n",
       "3          0.9900   41          1        0         0            1   \n",
       "4          0.9632   39          1        0         1            0   \n",
       "\n",
       "   season_autumn  season_spring  season_summer  Africa  Asia  Europe  \\\n",
       "0              0              1              0       0     0       1   \n",
       "1              0              1              0       0     0       1   \n",
       "2              1              0              0       0     0       1   \n",
       "3              0              1              0       0     0       0   \n",
       "4              1              0              0       0     0       1   \n",
       "\n",
       "   North America  Oceania  South America  \\\n",
       "0              0        0              0   \n",
       "1              0        0              0   \n",
       "2              0        0              0   \n",
       "3              0        0              1   \n",
       "4              0        0              0   \n",
       "\n",
       "                                           file_path  \\\n",
       "0  C:\\Users\\drake\\Documents\\DL Machine Learning C...   \n",
       "1  C:\\Users\\drake\\Documents\\DL Machine Learning C...   \n",
       "2  C:\\Users\\drake\\Documents\\DL Machine Learning C...   \n",
       "3  C:\\Users\\drake\\Documents\\DL Machine Learning C...   \n",
       "4  C:\\Users\\drake\\Documents\\DL Machine Learning C...   \n",
       "\n",
       "                              wav_file_name  \n",
       "0  00432f00-2477-4faf-a440-cc1276065b4a.wav  \n",
       "1  008c1c9e-aeef-40c5-846c-24f1b964f884.wav  \n",
       "2  00ac8cb0-3384-46b2-9db5-5b5e911615f0.wav  \n",
       "3  00ce5b06-c302-4387-bbd7-86355a4a8c12.wav  \n",
       "4  01424527-9c3b-4b6e-96f1-9eea3150819b.wav  "
      ]
     },
     "execution_count": 2,
     "metadata": {},
     "output_type": "execute_result"
    }
   ],
   "source": [
    "df = pd.read_csv('cough_data.csv')\n",
    "df.head()"
   ]
  },
  {
   "cell_type": "code",
   "execution_count": 3,
   "id": "d2a21241",
   "metadata": {},
   "outputs": [
    {
     "name": "stdout",
     "output_type": "stream",
     "text": [
      "C:\\Users\\drake\\Documents\\DL Machine Learning Class\\Final\\coughvid_dataset\\00ac8cb0-3384-46b2-9db5-5b5e911615f0.wav\n"
     ]
    }
   ],
   "source": [
    "print(df.loc[2,'file_path'])"
   ]
  },
  {
   "cell_type": "code",
   "execution_count": 4,
   "id": "8190cd2c",
   "metadata": {},
   "outputs": [
    {
     "data": {
      "text/html": [
       "<div>\n",
       "<style scoped>\n",
       "    .dataframe tbody tr th:only-of-type {\n",
       "        vertical-align: middle;\n",
       "    }\n",
       "\n",
       "    .dataframe tbody tr th {\n",
       "        vertical-align: top;\n",
       "    }\n",
       "\n",
       "    .dataframe thead th {\n",
       "        text-align: right;\n",
       "    }\n",
       "</style>\n",
       "<table border=\"1\" class=\"dataframe\">\n",
       "  <thead>\n",
       "    <tr style=\"text-align: right;\">\n",
       "      <th></th>\n",
       "      <th>COVID-19</th>\n",
       "      <th>file_path</th>\n",
       "    </tr>\n",
       "  </thead>\n",
       "  <tbody>\n",
       "    <tr>\n",
       "      <th>0</th>\n",
       "      <td>0</td>\n",
       "      <td>C:\\Users\\drake\\Documents\\DL Machine Learning C...</td>\n",
       "    </tr>\n",
       "  </tbody>\n",
       "</table>\n",
       "</div>"
      ],
      "text/plain": [
       "   COVID-19                                          file_path\n",
       "0         0  C:\\Users\\drake\\Documents\\DL Machine Learning C..."
      ]
     },
     "execution_count": 4,
     "metadata": {},
     "output_type": "execute_result"
    }
   ],
   "source": [
    "# right now I am going to drop every columns besides \n",
    "# COVID-19 (target variable) and File_path (feature/ has the audio wav file)\n",
    "df = df.drop(columns=[col for col in df.columns if col not in ['COVID-19',\n",
    "                                                               'file_path']])\n",
    "df.head(1)"
   ]
  },
  {
   "cell_type": "code",
   "execution_count": 5,
   "id": "d7c7a47e",
   "metadata": {},
   "outputs": [
    {
     "data": {
      "text/plain": [
       "0    1524\n",
       "1     620\n",
       "Name: COVID-19, dtype: int64"
      ]
     },
     "execution_count": 5,
     "metadata": {},
     "output_type": "execute_result"
    }
   ],
   "source": [
    "df['COVID-19'].value_counts()"
   ]
  },
  {
   "cell_type": "code",
   "execution_count": 6,
   "id": "bdc8c50e",
   "metadata": {},
   "outputs": [],
   "source": [
    "# setting up features and target variable\n",
    "X = df.drop('COVID-19',axis=1)\n",
    "y = df['COVID-19']\n",
    "\n",
    "# Oversampling since we have few actual covid cases\n",
    "from imblearn.over_sampling import RandomOverSampler\n",
    "\n",
    "X_resampled, y_resampled = RandomOverSampler().fit_resample(X, y)"
   ]
  },
  {
   "cell_type": "code",
   "execution_count": 7,
   "id": "0993a76b",
   "metadata": {},
   "outputs": [
    {
     "data": {
      "text/html": [
       "<div>\n",
       "<style scoped>\n",
       "    .dataframe tbody tr th:only-of-type {\n",
       "        vertical-align: middle;\n",
       "    }\n",
       "\n",
       "    .dataframe tbody tr th {\n",
       "        vertical-align: top;\n",
       "    }\n",
       "\n",
       "    .dataframe thead th {\n",
       "        text-align: right;\n",
       "    }\n",
       "</style>\n",
       "<table border=\"1\" class=\"dataframe\">\n",
       "  <thead>\n",
       "    <tr style=\"text-align: right;\">\n",
       "      <th></th>\n",
       "      <th>file_path</th>\n",
       "    </tr>\n",
       "  </thead>\n",
       "  <tbody>\n",
       "    <tr>\n",
       "      <th>0</th>\n",
       "      <td>C:\\Users\\drake\\Documents\\DL Machine Learning C...</td>\n",
       "    </tr>\n",
       "    <tr>\n",
       "      <th>1</th>\n",
       "      <td>C:\\Users\\drake\\Documents\\DL Machine Learning C...</td>\n",
       "    </tr>\n",
       "    <tr>\n",
       "      <th>2</th>\n",
       "      <td>C:\\Users\\drake\\Documents\\DL Machine Learning C...</td>\n",
       "    </tr>\n",
       "    <tr>\n",
       "      <th>3</th>\n",
       "      <td>C:\\Users\\drake\\Documents\\DL Machine Learning C...</td>\n",
       "    </tr>\n",
       "    <tr>\n",
       "      <th>4</th>\n",
       "      <td>C:\\Users\\drake\\Documents\\DL Machine Learning C...</td>\n",
       "    </tr>\n",
       "  </tbody>\n",
       "</table>\n",
       "</div>"
      ],
      "text/plain": [
       "                                           file_path\n",
       "0  C:\\Users\\drake\\Documents\\DL Machine Learning C...\n",
       "1  C:\\Users\\drake\\Documents\\DL Machine Learning C...\n",
       "2  C:\\Users\\drake\\Documents\\DL Machine Learning C...\n",
       "3  C:\\Users\\drake\\Documents\\DL Machine Learning C...\n",
       "4  C:\\Users\\drake\\Documents\\DL Machine Learning C..."
      ]
     },
     "execution_count": 7,
     "metadata": {},
     "output_type": "execute_result"
    }
   ],
   "source": [
    "X_resampled.head()"
   ]
  },
  {
   "cell_type": "code",
   "execution_count": 8,
   "id": "ef474a47",
   "metadata": {},
   "outputs": [
    {
     "data": {
      "text/plain": [
       "0    0\n",
       "1    0\n",
       "2    0\n",
       "3    0\n",
       "4    1\n",
       "Name: COVID-19, dtype: int64"
      ]
     },
     "execution_count": 8,
     "metadata": {},
     "output_type": "execute_result"
    }
   ],
   "source": [
    "y_resampled.head()"
   ]
  },
  {
   "cell_type": "code",
   "execution_count": 9,
   "id": "9616b60d",
   "metadata": {},
   "outputs": [
    {
     "data": {
      "text/plain": [
       "0    1524\n",
       "1    1524\n",
       "Name: COVID-19, dtype: int64"
      ]
     },
     "execution_count": 9,
     "metadata": {},
     "output_type": "execute_result"
    }
   ],
   "source": [
    "y_resampled.value_counts()"
   ]
  },
  {
   "cell_type": "markdown",
   "id": "0b7b07cc",
   "metadata": {},
   "source": [
    "# Mel Frequency Cepstral Coefficients (MFCCs)\n",
    "## 8k Hz"
   ]
  },
  {
   "cell_type": "markdown",
   "id": "e31419bb",
   "metadata": {},
   "source": [
    "# Reshaping Splits so they can fit in LSTM Model"
   ]
  },
  {
   "cell_type": "code",
   "execution_count": 10,
   "id": "30baa14b",
   "metadata": {},
   "outputs": [],
   "source": [
    "# Define the desired number of MFCC coefficients and time steps\n",
    "sr = 8000\n",
    "n_mfcc = 13\n",
    "hop_length = 512\n",
    "time_steps = int(10 * sr / hop_length)\n",
    "\n",
    "# Define a function to extract features from audio files\n",
    "def extract_features(file_path):\n",
    "    audio_file, sr = librosa.load(file_path, sr=8000)\n",
    "    mfccs = librosa.feature.mfcc(y=audio_file, sr=sr, n_mfcc=n_mfcc, hop_length=hop_length)\n",
    "    return mfccs\n",
    "\n",
    "# Apply the function to all audio files in the X_resampled dataframe\n",
    "X_mfccs = X_resampled['file_path'].apply(extract_features)\n",
    "\n",
    "# Pad or truncate the MFCCs to the desired number of time steps\n",
    "X_mfccs_padded = []\n",
    "for mfccs in X_mfccs:\n",
    "    if mfccs.shape[1] < time_steps:\n",
    "        padded_mfccs = np.pad(mfccs.T, ((0, time_steps - mfccs.shape[1]), (0, 0)), mode='constant')\n",
    "        X_mfccs_padded.append(padded_mfccs[:time_steps, :])\n",
    "    else:\n",
    "        X_mfccs_padded.append(mfccs.T[:time_steps, :])\n",
    "X_mfccs = np.array(X_mfccs_padded)\n",
    "\n",
    "# Reshape the data to fit the input shape of a LSTM model\n",
    "X_lstm = np.reshape(X_mfccs, (X_mfccs.shape[0], time_steps, n_mfcc))\n"
   ]
  },
  {
   "cell_type": "code",
   "execution_count": 11,
   "id": "fb038f1b",
   "metadata": {},
   "outputs": [
    {
     "name": "stdout",
     "output_type": "stream",
     "text": [
      "X_mfccs shape: (3048, 156, 13)\n",
      "X_lstm shape: (3048, 156, 13)\n"
     ]
    }
   ],
   "source": [
    "# checking shapes to make sure above code actually worked\n",
    "print(\"X_mfccs shape:\", X_mfccs.shape)\n",
    "print(\"X_lstm shape:\", X_lstm.shape)"
   ]
  },
  {
   "cell_type": "code",
   "execution_count": 13,
   "id": "dd7a4fc7",
   "metadata": {},
   "outputs": [],
   "source": [
    "# split into train test val split\n",
    "from sklearn.model_selection import train_test_split\n",
    "x_train_and_val, x_test, y_train_and_val, y_test = train_test_split(X_lstm, y_resampled, test_size = 0.20, random_state=42)"
   ]
  },
  {
   "cell_type": "code",
   "execution_count": 22,
   "id": "7c5141d6",
   "metadata": {},
   "outputs": [
    {
     "name": "stdout",
     "output_type": "stream",
     "text": [
      "x_train_and_val shape (2438, 156, 13)\n",
      "x test shape (610, 156, 13)\n",
      "y_train_and_val shape (2438,)\n",
      "y test shape (610,)\n"
     ]
    }
   ],
   "source": [
    "print(\"x_train_and_val shape\", x_train_and_val.shape)\n",
    "print(\"x test shape\", x_test.shape)\n",
    "print(\"y_train_and_val shape\", y_train_and_val.shape)\n",
    "print(\"y test shape\", y_test.shape)"
   ]
  },
  {
   "cell_type": "code",
   "execution_count": 33,
   "id": "a6762715",
   "metadata": {},
   "outputs": [
    {
     "name": "stdout",
     "output_type": "stream",
     "text": [
      "x\n",
      "<class 'numpy.ndarray'>\n",
      "<class 'numpy.ndarray'>\n",
      "y\n",
      "<class 'numpy.ndarray'>\n",
      "<class 'numpy.ndarray'>\n"
     ]
    }
   ],
   "source": [
    "print(\"x\")\n",
    "print(type(x_train_and_val))\n",
    "print(type(x_test))\n",
    "\n",
    "print(\"y\")\n",
    "print(type(y_train_and_val))\n",
    "print(type(y_test))"
   ]
  },
  {
   "cell_type": "code",
   "execution_count": 31,
   "id": "a6724349",
   "metadata": {},
   "outputs": [
    {
     "name": "stdout",
     "output_type": "stream",
     "text": [
      "<class 'numpy.ndarray'>\n",
      "<class 'numpy.ndarray'>\n"
     ]
    }
   ],
   "source": [
    "# now I will convert my two pandas df into a numpy array\n",
    "y_train_and_val = y_train_and_val.to_numpy().flatten()\n",
    "y_test = y_test.to_numpy().flatten()\n",
    "\n",
    "print(type(y_train_and_val))\n",
    "print(type(y_test))"
   ]
  },
  {
   "cell_type": "code",
   "execution_count": 32,
   "id": "3b3dfba4",
   "metadata": {},
   "outputs": [
    {
     "name": "stdout",
     "output_type": "stream",
     "text": [
      "x_train_and_val shape (2438, 156, 13)\n",
      "x test shape (610, 156, 13)\n",
      "y_train_and_val shape (2438,)\n",
      "y test shape (610,)\n"
     ]
    }
   ],
   "source": [
    "print(\"x_train_and_val shape\", x_train_and_val.shape)\n",
    "print(\"x test shape\", x_test.shape)\n",
    "print(\"y_train_and_val shape\", y_train_and_val.shape)\n",
    "print(\"y test shape\", y_test.shape)"
   ]
  },
  {
   "cell_type": "code",
   "execution_count": null,
   "id": "5a616d71",
   "metadata": {},
   "outputs": [],
   "source": []
  },
  {
   "cell_type": "markdown",
   "id": "cdc31b07",
   "metadata": {},
   "source": [
    "# Define KFOLD and Number of folds"
   ]
  },
  {
   "cell_type": "code",
   "execution_count": 39,
   "id": "c843fa00",
   "metadata": {},
   "outputs": [],
   "source": [
    "from sklearn.model_selection import KFold\n",
    "# Define the number of folds\n",
    "num_folds = 5\n",
    "# Split the data into K folds\n",
    "kf = KFold(n_splits=num_folds, shuffle=True)"
   ]
  },
  {
   "cell_type": "markdown",
   "id": "5aa532f6",
   "metadata": {},
   "source": [
    "# LSTM MODEL"
   ]
  },
  {
   "cell_type": "code",
   "execution_count": 35,
   "id": "3d4c0cfd",
   "metadata": {},
   "outputs": [],
   "source": [
    "from keras.models import Sequential\n",
    "from keras.layers import LSTM, Dense\n",
    "\n",
    "# Define the LSTM model architecture\n",
    "model = Sequential()\n",
    "model.add(LSTM(units=64, input_shape=(time_steps, n_mfcc)))\n",
    "model.add(Dense(units=1, activation='sigmoid'))\n",
    "\n",
    "# compile the model\n",
    "model.compile(optimizer='adam', loss='binary_crossentropy', metrics=['accuracy'])"
   ]
  },
  {
   "cell_type": "code",
   "execution_count": 41,
   "id": "8d05767f",
   "metadata": {},
   "outputs": [
    {
     "name": "stdout",
     "output_type": "stream",
     "text": [
      "Fold 1:\n",
      "Epoch 1/5\n",
      "61/61 [==============================] - 3s 48ms/step - loss: 0.1614 - accuracy: 0.9390 - val_loss: 0.1338 - val_accuracy: 0.9611\n",
      "Epoch 2/5\n",
      "61/61 [==============================] - 3s 45ms/step - loss: 0.1193 - accuracy: 0.9600 - val_loss: 0.1374 - val_accuracy: 0.9549\n",
      "Epoch 3/5\n",
      "61/61 [==============================] - 3s 45ms/step - loss: 0.1080 - accuracy: 0.9615 - val_loss: 0.1212 - val_accuracy: 0.9672\n",
      "Epoch 4/5\n",
      "61/61 [==============================] - 3s 45ms/step - loss: 0.1011 - accuracy: 0.9605 - val_loss: 0.1487 - val_accuracy: 0.9529\n",
      "Epoch 5/5\n",
      "61/61 [==============================] - 3s 46ms/step - loss: 0.0967 - accuracy: 0.9631 - val_loss: 0.1373 - val_accuracy: 0.9570\n",
      "20/20 [==============================] - 0s 16ms/step - loss: 1.2498 - accuracy: 0.7361\n",
      "Test loss on this fold: 1.2498, Test accuracy on this fold: 0.7361\n",
      "Fold 1:\n",
      "Epoch 1/5\n",
      "61/61 [==============================] - 3s 47ms/step - loss: 0.1437 - accuracy: 0.9497 - val_loss: 0.0768 - val_accuracy: 0.9672\n",
      "Epoch 2/5\n",
      "61/61 [==============================] - 3s 46ms/step - loss: 0.1342 - accuracy: 0.9574 - val_loss: 0.1012 - val_accuracy: 0.9652\n",
      "Epoch 3/5\n",
      "61/61 [==============================] - 3s 47ms/step - loss: 0.1209 - accuracy: 0.9595 - val_loss: 0.1420 - val_accuracy: 0.9508\n",
      "Epoch 4/5\n",
      "61/61 [==============================] - 3s 47ms/step - loss: 0.1488 - accuracy: 0.9503 - val_loss: 0.2185 - val_accuracy: 0.9303\n",
      "Epoch 5/5\n",
      "61/61 [==============================] - 3s 47ms/step - loss: 0.1558 - accuracy: 0.9472 - val_loss: 0.1768 - val_accuracy: 0.9426\n",
      "20/20 [==============================] - 0s 15ms/step - loss: 1.0359 - accuracy: 0.7426\n",
      "Test loss on this fold: 1.0359, Test accuracy on this fold: 0.7426\n",
      "Fold 1:\n",
      "Epoch 1/5\n",
      "61/61 [==============================] - 3s 49ms/step - loss: 0.1226 - accuracy: 0.9579 - val_loss: 0.1190 - val_accuracy: 0.9549\n",
      "Epoch 2/5\n",
      "61/61 [==============================] - 3s 52ms/step - loss: 0.1100 - accuracy: 0.9641 - val_loss: 0.1235 - val_accuracy: 0.9426\n",
      "Epoch 3/5\n",
      "61/61 [==============================] - 3s 50ms/step - loss: 0.1080 - accuracy: 0.9610 - val_loss: 0.1265 - val_accuracy: 0.9447\n",
      "Epoch 4/5\n",
      "61/61 [==============================] - 3s 51ms/step - loss: 0.0971 - accuracy: 0.9697 - val_loss: 0.2117 - val_accuracy: 0.9221\n",
      "Epoch 5/5\n",
      "61/61 [==============================] - 3s 51ms/step - loss: 0.1441 - accuracy: 0.9487 - val_loss: 0.1440 - val_accuracy: 0.9447\n",
      "20/20 [==============================] - 0s 17ms/step - loss: 0.9196 - accuracy: 0.7459\n",
      "Test loss on this fold: 0.9196, Test accuracy on this fold: 0.7459\n",
      "Fold 1:\n",
      "Epoch 1/5\n",
      "61/61 [==============================] - 3s 51ms/step - loss: 0.1087 - accuracy: 0.9610 - val_loss: 0.1065 - val_accuracy: 0.9713\n",
      "Epoch 2/5\n",
      "61/61 [==============================] - 3s 52ms/step - loss: 0.1075 - accuracy: 0.9641 - val_loss: 0.1095 - val_accuracy: 0.9651\n",
      "Epoch 3/5\n",
      "61/61 [==============================] - 3s 50ms/step - loss: 0.1151 - accuracy: 0.9590 - val_loss: 0.1028 - val_accuracy: 0.9425\n",
      "Epoch 4/5\n",
      "61/61 [==============================] - 3s 50ms/step - loss: 0.1034 - accuracy: 0.9631 - val_loss: 0.0949 - val_accuracy: 0.9630\n",
      "Epoch 5/5\n",
      "61/61 [==============================] - 3s 50ms/step - loss: 0.1147 - accuracy: 0.9564 - val_loss: 0.1405 - val_accuracy: 0.9569\n",
      "20/20 [==============================] - 0s 18ms/step - loss: 0.9554 - accuracy: 0.7443\n",
      "Test loss on this fold: 0.9554, Test accuracy on this fold: 0.7443\n",
      "Fold 1:\n",
      "Epoch 1/5\n",
      "61/61 [==============================] - 3s 52ms/step - loss: 0.0959 - accuracy: 0.9662 - val_loss: 0.1554 - val_accuracy: 0.9487\n",
      "Epoch 2/5\n",
      "61/61 [==============================] - 3s 50ms/step - loss: 0.1017 - accuracy: 0.9641 - val_loss: 0.1840 - val_accuracy: 0.9281\n",
      "Epoch 3/5\n",
      "61/61 [==============================] - 3s 51ms/step - loss: 0.1120 - accuracy: 0.9539 - val_loss: 0.1633 - val_accuracy: 0.9446\n",
      "Epoch 4/5\n",
      "61/61 [==============================] - 3s 50ms/step - loss: 0.1032 - accuracy: 0.9662 - val_loss: 0.1821 - val_accuracy: 0.9343\n",
      "Epoch 5/5\n",
      "61/61 [==============================] - 3s 51ms/step - loss: 0.0978 - accuracy: 0.9677 - val_loss: 0.1438 - val_accuracy: 0.9507\n",
      "20/20 [==============================] - 0s 18ms/step - loss: 1.0608 - accuracy: 0.7426\n",
      "Test loss on this fold: 1.0608, Test accuracy on this fold: 0.7426\n",
      "20/20 [==============================] - 0s 17ms/step - loss: 1.0608 - accuracy: 0.7426\n",
      "Test loss: 1.0608, Test accuracy: 0.7426\n"
     ]
    }
   ],
   "source": [
    "# Iterate over each fold\n",
    "for train_index, val_index in kf.split(x_train_and_val, y_train_and_val):\n",
    "    fold = 0\n",
    "    fold += 1\n",
    "    print(f\"Fold {fold}:\")\n",
    "\n",
    "    # Split the data into training and validation sets for this fold\n",
    "    x_train, x_val = x_train_and_val[train_index], x_train_and_val[val_index]\n",
    "    y_train, y_val = y_train_and_val[train_index], y_train_and_val[val_index]\n",
    "\n",
    "    # Train the model on this fold's training data\n",
    "    model.fit(x_train, y_train, validation_data=(x_val, y_val), epochs=5, batch_size=32)\n",
    "\n",
    "    # Evaluate the model on this fold's validation data\n",
    "    loss, accuracy = model.evaluate(x_test, y_test)\n",
    "    print(f\"Test loss on this fold: {loss:.4f}, Test accuracy on this fold: {accuracy:.4f}\")\n",
    "\n",
    "# Evaluate the model on the test set\n",
    "loss, accuracy = model.evaluate(x_test, y_test)\n",
    "print(f\"Test loss: {loss:.4f}, Test accuracy: {accuracy:.4f}\")"
   ]
  },
  {
   "cell_type": "code",
   "execution_count": 42,
   "id": "1a1c25fb",
   "metadata": {},
   "outputs": [
    {
     "name": "stdout",
     "output_type": "stream",
     "text": [
      "20/20 [==============================] - 1s 16ms/step\n",
      "F1 score: 0.7535, Recall: 0.8108, AUC ROC score: 0.7446\n"
     ]
    }
   ],
   "source": [
    "from sklearn.metrics import f1_score, recall_score, roc_auc_score\n",
    "\n",
    "# Predict the labels for the test set\n",
    "y_pred = model.predict(x_test)\n",
    "\n",
    "# Convert the predicted probabilities to binary labels\n",
    "y_pred = (y_pred > 0.5).astype(int)\n",
    "\n",
    "# Calculate the F1 score, recall, and AUC ROC score\n",
    "f1 = f1_score(y_test, y_pred)\n",
    "recall = recall_score(y_test, y_pred)\n",
    "auc_roc = roc_auc_score(y_test, y_pred)\n",
    "\n",
    "print(f\"F1 score: {f1:.4f}, Recall: {recall:.4f}, AUC ROC score: {auc_roc:.4f}\")\n"
   ]
  },
  {
   "cell_type": "code",
   "execution_count": 45,
   "id": "38f5cfb3",
   "metadata": {},
   "outputs": [
    {
     "name": "stdout",
     "output_type": "stream",
     "text": [
      "y_pred shape: (610, 1)\n"
     ]
    }
   ],
   "source": [
    "print(\"y_pred shape:\",y_pred.shape)"
   ]
  },
  {
   "cell_type": "code",
   "execution_count": 46,
   "id": "f5b87b76",
   "metadata": {},
   "outputs": [
    {
     "data": {
      "text/plain": [
       "(610,)"
      ]
     },
     "execution_count": 46,
     "metadata": {},
     "output_type": "execute_result"
    }
   ],
   "source": [
    "y_pred = y_pred.flatten()\n",
    "y_pred.shape"
   ]
  },
  {
   "cell_type": "code",
   "execution_count": 47,
   "id": "54089687",
   "metadata": {},
   "outputs": [
    {
     "data": {
      "text/plain": [
       "array([1, 1, 1, 1, 1, 0, 1, 0, 0, 1, 0, 0, 1, 1, 0, 1, 1, 1, 0, 1, 1, 1,\n",
       "       1, 1, 1, 0, 0, 1, 1, 1, 0, 1, 1, 1, 0, 0, 0, 0, 0, 1, 0, 1, 1, 1,\n",
       "       1, 0, 1, 1, 1, 0, 1, 0, 1, 0, 0, 1, 0, 0, 1, 1, 0, 1, 0, 0, 0, 1,\n",
       "       1, 0, 1, 1, 1, 0, 0, 0, 0, 1, 1, 0, 0, 0, 1, 1, 1, 0, 1, 1, 1, 1,\n",
       "       0, 0, 0, 1, 1, 0, 1, 0, 1, 1, 1, 0, 0, 1, 1, 0, 1, 0, 1, 0, 0, 1,\n",
       "       0, 0, 0, 0, 0, 1, 1, 1, 1, 0, 1, 1, 0, 1, 1, 0, 1, 0, 1, 1, 1, 1,\n",
       "       0, 1, 0, 1, 1, 1, 1, 1, 1, 1, 1, 0, 1, 0, 1, 1, 0, 0, 0, 0, 0, 1,\n",
       "       1, 1, 1, 0, 1, 1, 0, 1, 0, 0, 1, 1, 1, 0, 0, 0, 0, 0, 1, 0, 1, 1,\n",
       "       0, 0, 1, 1, 0, 1, 0, 1, 1, 1, 1, 0, 1, 1, 0, 0, 1, 1, 0, 0, 1, 0,\n",
       "       0, 1, 0, 1, 1, 1, 1, 0, 0, 0, 1, 0, 0, 0, 1, 0, 1, 1, 1, 1, 1, 0,\n",
       "       1, 1, 1, 0, 1, 1, 1, 1, 1, 0, 1, 1, 0, 1, 0, 1, 0, 1, 0, 0, 1, 1,\n",
       "       0, 1, 0, 0, 0, 1, 1, 0, 1, 0, 0, 1, 0, 0, 1, 1, 1, 1, 1, 0, 1, 1,\n",
       "       0, 0, 1, 1, 0, 1, 1, 0, 1, 1, 1, 1, 1, 0, 0, 1, 1, 0, 1, 1, 1, 0,\n",
       "       0, 1, 0, 0, 0, 1, 0, 1, 1, 0, 0, 1, 0, 0, 0, 1, 0, 0, 0, 0, 1, 0,\n",
       "       1, 1, 1, 0, 0, 0, 0, 0, 0, 0, 1, 1, 1, 1, 1, 1, 0, 1, 1, 1, 1, 1,\n",
       "       0, 0, 1, 1, 1, 1, 0, 0, 0, 1, 1, 1, 0, 1, 0, 0, 0, 0, 1, 1, 0, 0,\n",
       "       1, 0, 1, 0, 0, 1, 1, 0, 0, 1, 1, 1, 0, 1, 1, 0, 1, 0, 1, 1, 1, 0,\n",
       "       0, 0, 0, 1, 1, 1, 1, 0, 1, 1, 0, 1, 0, 1, 1, 1, 0, 0, 0, 0, 0, 0,\n",
       "       1, 1, 1, 1, 1, 1, 0, 1, 1, 1, 0, 1, 0, 0, 1, 1, 1, 1, 0, 1, 1, 1,\n",
       "       0, 0, 1, 0, 0, 1, 1, 1, 0, 0, 0, 1, 0, 1, 1, 0, 1, 1, 1, 1, 1, 1,\n",
       "       1, 0, 1, 0, 0, 1, 0, 0, 1, 1, 1, 1, 0, 1, 1, 0, 0, 0, 0, 1, 0, 1,\n",
       "       1, 0, 0, 1, 0, 0, 0, 0, 1, 1, 0, 1, 0, 0, 0, 0, 0, 0, 1, 1, 1, 1,\n",
       "       0, 1, 0, 0, 1, 0, 1, 1, 1, 1, 0, 0, 0, 1, 0, 0, 1, 1, 0, 0, 1, 1,\n",
       "       0, 0, 0, 0, 1, 0, 1, 0, 1, 1, 1, 0, 0, 0, 0, 1, 1, 1, 1, 1, 0, 1,\n",
       "       0, 1, 0, 0, 0, 1, 0, 1, 1, 0, 1, 1, 1, 1, 0, 0, 1, 1, 1, 1, 1, 1,\n",
       "       0, 0, 1, 1, 1, 1, 1, 0, 1, 1, 1, 0, 1, 1, 0, 0, 0, 1, 1, 1, 0, 0,\n",
       "       0, 1, 0, 1, 0, 0, 1, 1, 1, 1, 1, 1, 1, 1, 0, 1, 0, 1, 0, 0, 0, 0,\n",
       "       0, 1, 0, 1, 1, 0, 1, 1, 1, 0, 1, 1, 0, 1, 1, 0])"
      ]
     },
     "execution_count": 47,
     "metadata": {},
     "output_type": "execute_result"
    }
   ],
   "source": [
    "y_pred"
   ]
  },
  {
   "cell_type": "code",
   "execution_count": 48,
   "id": "681a76e0",
   "metadata": {},
   "outputs": [],
   "source": [
    "import numpy as np\n",
    "\n",
    "# Save the predicted values as a numpy array\n",
    "np.save(\"lstm_pred_new.npy\", y_pred)\n"
   ]
  },
  {
   "cell_type": "code",
   "execution_count": 49,
   "id": "dcbef679",
   "metadata": {},
   "outputs": [
    {
     "data": {
      "text/plain": [
       "(610,)"
      ]
     },
     "execution_count": 49,
     "metadata": {},
     "output_type": "execute_result"
    }
   ],
   "source": [
    "y_test.shape"
   ]
  },
  {
   "cell_type": "code",
   "execution_count": 50,
   "id": "7e324d26",
   "metadata": {},
   "outputs": [],
   "source": [
    "np.save(\"y_test_for_voting\", y_test)"
   ]
  },
  {
   "cell_type": "code",
   "execution_count": null,
   "id": "08c9bec7",
   "metadata": {},
   "outputs": [],
   "source": []
  }
 ],
 "metadata": {
  "kernelspec": {
   "display_name": "Python 3 (ipykernel)",
   "language": "python",
   "name": "python3"
  },
  "language_info": {
   "codemirror_mode": {
    "name": "ipython",
    "version": 3
   },
   "file_extension": ".py",
   "mimetype": "text/x-python",
   "name": "python",
   "nbconvert_exporter": "python",
   "pygments_lexer": "ipython3",
   "version": "3.8.16"
  }
 },
 "nbformat": 4,
 "nbformat_minor": 5
}
